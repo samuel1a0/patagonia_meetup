{
 "cells": [
  {
   "cell_type": "markdown",
   "metadata": {},
   "source": [
    "# Mareadita con Python \n",
    "## Predicciones y resultados de Partidos\n",
    "\n",
    "Esta charla es una pequeña muestra de algunas herramientas que se pueden encontrar principalmente en la librería sci-kit learn, aplicadas a un set de datos con el objetivo de aproximarnos a la predicción de resultados de partidos de la liga Europea.\n",
    "\n",
    "Set de datos utilizado: https://www.kaggle.com/hugomathien/soccer\n",
    "\n",
    "Pasos Básicos con los datos:\n",
    "* Carga.\n",
    "* Limpieza y Transformación.\n",
    "* Reducción de Dimensionalidad.\n",
    "    * Filtro de Variancia\n",
    "    * PCA\n",
    "* Aprendizaje Supervisado\n",
    "    * Validación cruzada\n",
    "    * Selección de Parámetros\n",
    "\n",
    "Extra: \n",
    "* Pipelines y GridSearch: Reduciendo la cantidad de código necesario para el proceso completo"
   ]
  },
  {
   "cell_type": "code",
   "execution_count": 1,
   "metadata": {
    "collapsed": false
   },
   "outputs": [],
   "source": [
    "import pandas as pd\n",
    "import numpy as np\n",
    "import sqlite3\n",
    "import itertools\n",
    "from matplotlib import pyplot as plt\n",
    "from matplotlib import cm\n",
    "from mpl_toolkits.mplot3d import Axes3D\n",
    "\n",
    "from sklearn import preprocessing\n",
    "from sklearn.pipeline import Pipeline\n",
    "from sklearn.model_selection import train_test_split\n",
    "from sklearn.utils import shuffle\n",
    "from sklearn.decomposition import PCA\n",
    "from sklearn.feature_selection import VarianceThreshold\n",
    "\n",
    "from sklearn.naive_bayes import GaussianNB\n",
    "from sklearn.ensemble import ExtraTreesClassifier\n",
    "from sklearn.dummy import DummyClassifier\n",
    "\n",
    "from sklearn.model_selection import train_test_split, cross_val_score, GridSearchCV\n",
    "from sklearn.metrics import confusion_matrix\n",
    "from sklearn.externals import joblib as jl\n",
    "from IPython.display import display"
   ]
  },
  {
   "cell_type": "markdown",
   "metadata": {},
   "source": [
    "# Utiles"
   ]
  },
  {
   "cell_type": "code",
   "execution_count": 2,
   "metadata": {
    "collapsed": false
   },
   "outputs": [],
   "source": [
    "# pd.options.display.max_rows = 1000   # cuantas rows mostrar al imprimir un dataframe de pandas\n",
    "\n",
    "def ganador(x):\n",
    "    if x[\"goles_l\"] > x[\"goles_v\"]:\n",
    "        return 1\n",
    "    return 0\n",
    "\n",
    "def perdedor(x):\n",
    "    if x[\"goles_l\"] < x[\"goles_v\"]:\n",
    "        return 1\n",
    "    return 0\n",
    "\n",
    "def empate(x):\n",
    "    if x[\"goles_l\"] > x[\"goles_v\"]:\n",
    "        return 1\n",
    "    return 0\n",
    "\n",
    "def resultado(x):\n",
    "    if x[\"goles_l\"] < x[\"goles_v\"]:\n",
    "        return 1\n",
    "    if x[\"goles_l\"] > x[\"goles_v\"]:\n",
    "        return 2\n",
    "    return 0\n",
    "\n",
    "def f_importances(est):\n",
    "    \"\"\" \n",
    "    Esta función plotea un grafico de barras con la importancia de\n",
    "    cada feature utilizada por el estimador dado por parametro\n",
    "    \"\"\"\n",
    "    fig, ax = plt.subplots()\n",
    "    x_ind = est.feature_importances_\n",
    "    plt.bar(range(len(x_ind)), est.feature_importances_)\n",
    "    ax.set_xlabel(\"Features\")\n",
    "    ax.set_ylabel(\"Porcentaje\")\n",
    "    plt.show()\n",
    "\n",
    "def plot_confusion_matrix(cm, classes=[\"D-W\", \"Lose\"], title='Confusion matrix', norm=True):\n",
    "    \"\"\"\n",
    "    Esta función imprime una matriz de confución. El parámetro 'norm' determina si los valores deben\n",
    "    mostrarse como recuento total de las ocurrencias, o como medida porcentual donde 1 es el total\n",
    "    \"\"\"\n",
    "    cmap = plt.cm.Blues\n",
    "    plt.imshow(cm, interpolation='nearest', cmap=cmap)\n",
    "    plt.title(title)\n",
    "    plt.colorbar()\n",
    "    tick_marks = np.arange(len(classes))\n",
    "    plt.xticks(tick_marks, classes, rotation=45)\n",
    "    plt.yticks(tick_marks, classes)\n",
    "\n",
    "    if norm:\n",
    "        cm = np.around(cm / cm.sum(axis=1)[:, np.newaxis], 3)\n",
    "    \n",
    "    thresh = cm.max() / 2.\n",
    "    for i, j in itertools.product(range(cm.shape[0]), range(cm.shape[1])):\n",
    "        plt.text(j, i, cm[i, j],\n",
    "                 horizontalalignment=\"center\",\n",
    "                 color=\"black\" if cm[i, j] > thresh else \"black\")\n",
    "\n",
    "    plt.tight_layout()\n",
    "    plt.xlabel('True label')\n",
    "    plt.ylabel('Predicted label')\n",
    "    plt.show()"
   ]
  },
  {
   "cell_type": "markdown",
   "metadata": {},
   "source": [
    "# Carga de Datos"
   ]
  },
  {
   "cell_type": "code",
   "execution_count": null,
   "metadata": {
    "collapsed": true
   },
   "outputs": [],
   "source": [
    "# En caso de ya haber realizado la lectura de la BD, y guardado en un csv los datos preprocesados, ejecutar esta celda\n",
    "# y seguir directamente desde la sección \"Obteniendo las Clases\"\n",
    "ruta = \"path al archivo csv\"\n",
    "data_encuentros = pd.read_csv(ruta)"
   ]
  },
  {
   "cell_type": "code",
   "execution_count": 3,
   "metadata": {
    "collapsed": false,
    "scrolled": false
   },
   "outputs": [
    {
     "name": "stdout",
     "output_type": "stream",
     "text": [
      "Equipos\n"
     ]
    },
    {
     "data": {
      "text/html": [
       "<div>\n",
       "<table border=\"1\" class=\"dataframe\">\n",
       "  <thead>\n",
       "    <tr style=\"text-align: right;\">\n",
       "      <th></th>\n",
       "      <th>team_api_id</th>\n",
       "      <th>team_long_name</th>\n",
       "    </tr>\n",
       "  </thead>\n",
       "  <tbody>\n",
       "    <tr>\n",
       "      <th>5</th>\n",
       "      <td>8635</td>\n",
       "      <td>RSC Anderlecht</td>\n",
       "    </tr>\n",
       "    <tr>\n",
       "      <th>6</th>\n",
       "      <td>9991</td>\n",
       "      <td>KAA Gent</td>\n",
       "    </tr>\n",
       "  </tbody>\n",
       "</table>\n",
       "</div>"
      ],
      "text/plain": [
       "   team_api_id  team_long_name\n",
       "5         8635  RSC Anderlecht\n",
       "6         9991        KAA Gent"
      ]
     },
     "metadata": {},
     "output_type": "display_data"
    },
    {
     "name": "stdout",
     "output_type": "stream",
     "text": [
      "Estadisticas de los Equipos\n"
     ]
    },
    {
     "data": {
      "text/html": [
       "<div>\n",
       "<table border=\"1\" class=\"dataframe\">\n",
       "  <thead>\n",
       "    <tr style=\"text-align: right;\">\n",
       "      <th></th>\n",
       "      <th>team_fifa_api_id</th>\n",
       "      <th>team_api_id</th>\n",
       "      <th>date</th>\n",
       "      <th>buildUpPlaySpeed</th>\n",
       "      <th>buildUpPlaySpeedClass</th>\n",
       "      <th>buildUpPlayDribbling</th>\n",
       "      <th>buildUpPlayDribblingClass</th>\n",
       "      <th>buildUpPlayPassing</th>\n",
       "      <th>buildUpPlayPassingClass</th>\n",
       "      <th>buildUpPlayPositioningClass</th>\n",
       "      <th>chanceCreationPassing</th>\n",
       "      <th>chanceCreationPassingClass</th>\n",
       "      <th>chanceCreationCrossing</th>\n",
       "      <th>chanceCreationCrossingClass</th>\n",
       "      <th>chanceCreationShooting</th>\n",
       "      <th>chanceCreationShootingClass</th>\n",
       "      <th>chanceCreationPositioningClass</th>\n",
       "      <th>defencePressure</th>\n",
       "      <th>defencePressureClass</th>\n",
       "      <th>defenceAggression</th>\n",
       "      <th>defenceAggressionClass</th>\n",
       "      <th>defenceTeamWidth</th>\n",
       "      <th>defenceTeamWidthClass</th>\n",
       "      <th>defenceDefenderLineClass</th>\n",
       "    </tr>\n",
       "  </thead>\n",
       "  <tbody>\n",
       "    <tr>\n",
       "      <th>5</th>\n",
       "      <td>77</td>\n",
       "      <td>8485</td>\n",
       "      <td>2012</td>\n",
       "      <td>58</td>\n",
       "      <td>Balanced</td>\n",
       "      <td>-1.0</td>\n",
       "      <td>Little</td>\n",
       "      <td>62</td>\n",
       "      <td>Mixed</td>\n",
       "      <td>Organised</td>\n",
       "      <td>45</td>\n",
       "      <td>Normal</td>\n",
       "      <td>70</td>\n",
       "      <td>Lots</td>\n",
       "      <td>55</td>\n",
       "      <td>Normal</td>\n",
       "      <td>Organised</td>\n",
       "      <td>40</td>\n",
       "      <td>Medium</td>\n",
       "      <td>40</td>\n",
       "      <td>Press</td>\n",
       "      <td>60</td>\n",
       "      <td>Normal</td>\n",
       "      <td>Cover</td>\n",
       "    </tr>\n",
       "    <tr>\n",
       "      <th>6</th>\n",
       "      <td>77</td>\n",
       "      <td>8485</td>\n",
       "      <td>2013</td>\n",
       "      <td>62</td>\n",
       "      <td>Balanced</td>\n",
       "      <td>-1.0</td>\n",
       "      <td>Little</td>\n",
       "      <td>45</td>\n",
       "      <td>Mixed</td>\n",
       "      <td>Organised</td>\n",
       "      <td>40</td>\n",
       "      <td>Normal</td>\n",
       "      <td>50</td>\n",
       "      <td>Normal</td>\n",
       "      <td>55</td>\n",
       "      <td>Normal</td>\n",
       "      <td>Organised</td>\n",
       "      <td>42</td>\n",
       "      <td>Medium</td>\n",
       "      <td>42</td>\n",
       "      <td>Press</td>\n",
       "      <td>60</td>\n",
       "      <td>Normal</td>\n",
       "      <td>Cover</td>\n",
       "    </tr>\n",
       "  </tbody>\n",
       "</table>\n",
       "</div>"
      ],
      "text/plain": [
       "   team_fifa_api_id  team_api_id  date  buildUpPlaySpeed  \\\n",
       "5                77         8485  2012                58   \n",
       "6                77         8485  2013                62   \n",
       "\n",
       "  buildUpPlaySpeedClass  buildUpPlayDribbling buildUpPlayDribblingClass  \\\n",
       "5              Balanced                  -1.0                    Little   \n",
       "6              Balanced                  -1.0                    Little   \n",
       "\n",
       "   buildUpPlayPassing buildUpPlayPassingClass buildUpPlayPositioningClass  \\\n",
       "5                  62                   Mixed                   Organised   \n",
       "6                  45                   Mixed                   Organised   \n",
       "\n",
       "   chanceCreationPassing chanceCreationPassingClass  chanceCreationCrossing  \\\n",
       "5                     45                     Normal                      70   \n",
       "6                     40                     Normal                      50   \n",
       "\n",
       "  chanceCreationCrossingClass  chanceCreationShooting  \\\n",
       "5                        Lots                      55   \n",
       "6                      Normal                      55   \n",
       "\n",
       "  chanceCreationShootingClass chanceCreationPositioningClass  defencePressure  \\\n",
       "5                      Normal                      Organised               40   \n",
       "6                      Normal                      Organised               42   \n",
       "\n",
       "  defencePressureClass  defenceAggression defenceAggressionClass  \\\n",
       "5               Medium                 40                  Press   \n",
       "6               Medium                 42                  Press   \n",
       "\n",
       "   defenceTeamWidth defenceTeamWidthClass defenceDefenderLineClass  \n",
       "5                60                Normal                    Cover  \n",
       "6                60                Normal                    Cover  "
      ]
     },
     "metadata": {},
     "output_type": "display_data"
    },
    {
     "name": "stdout",
     "output_type": "stream",
     "text": [
      "Partidos\n"
     ]
    },
    {
     "data": {
      "text/html": [
       "<div>\n",
       "<table border=\"1\" class=\"dataframe\">\n",
       "  <thead>\n",
       "    <tr style=\"text-align: right;\">\n",
       "      <th></th>\n",
       "      <th>country_id</th>\n",
       "      <th>league_id</th>\n",
       "      <th>season</th>\n",
       "      <th>stage</th>\n",
       "      <th>date</th>\n",
       "      <th>match_api_id</th>\n",
       "      <th>home_team_api_id</th>\n",
       "      <th>away_team_api_id</th>\n",
       "      <th>home_team_goal</th>\n",
       "      <th>away_team_goal</th>\n",
       "      <th>home_player_X1</th>\n",
       "      <th>home_player_X2</th>\n",
       "      <th>...</th>\n",
       "      <th>SJH</th>\n",
       "      <th>SJD</th>\n",
       "      <th>SJA</th>\n",
       "      <th>VCH</th>\n",
       "      <th>VCD</th>\n",
       "      <th>VCA</th>\n",
       "      <th>GBH</th>\n",
       "      <th>GBD</th>\n",
       "      <th>GBA</th>\n",
       "      <th>BSH</th>\n",
       "      <th>BSD</th>\n",
       "      <th>BSA</th>\n",
       "    </tr>\n",
       "  </thead>\n",
       "  <tbody>\n",
       "    <tr>\n",
       "      <th>8</th>\n",
       "      <td>1</td>\n",
       "      <td>1</td>\n",
       "      <td>2008/2009</td>\n",
       "      <td>1</td>\n",
       "      <td>2008</td>\n",
       "      <td>492481</td>\n",
       "      <td>10001</td>\n",
       "      <td>9986</td>\n",
       "      <td>1</td>\n",
       "      <td>0</td>\n",
       "      <td>-1.0</td>\n",
       "      <td>-1.0</td>\n",
       "      <td>...</td>\n",
       "      <td>2.20</td>\n",
       "      <td>3.3</td>\n",
       "      <td>3.1</td>\n",
       "      <td>2.25</td>\n",
       "      <td>3.25</td>\n",
       "      <td>2.8</td>\n",
       "      <td>2.20</td>\n",
       "      <td>3.3</td>\n",
       "      <td>2.8</td>\n",
       "      <td>2.25</td>\n",
       "      <td>3.2</td>\n",
       "      <td>2.8</td>\n",
       "    </tr>\n",
       "    <tr>\n",
       "      <th>9</th>\n",
       "      <td>1</td>\n",
       "      <td>1</td>\n",
       "      <td>2008/2009</td>\n",
       "      <td>10</td>\n",
       "      <td>2008</td>\n",
       "      <td>492564</td>\n",
       "      <td>8342</td>\n",
       "      <td>8571</td>\n",
       "      <td>4</td>\n",
       "      <td>1</td>\n",
       "      <td>-1.0</td>\n",
       "      <td>-1.0</td>\n",
       "      <td>...</td>\n",
       "      <td>1.27</td>\n",
       "      <td>5.0</td>\n",
       "      <td>10.0</td>\n",
       "      <td>1.30</td>\n",
       "      <td>4.35</td>\n",
       "      <td>8.5</td>\n",
       "      <td>1.25</td>\n",
       "      <td>5.0</td>\n",
       "      <td>10.0</td>\n",
       "      <td>1.29</td>\n",
       "      <td>4.5</td>\n",
       "      <td>9.0</td>\n",
       "    </tr>\n",
       "  </tbody>\n",
       "</table>\n",
       "<p>2 rows × 114 columns</p>\n",
       "</div>"
      ],
      "text/plain": [
       "   country_id  league_id     season  stage  date  match_api_id  \\\n",
       "8           1          1  2008/2009      1  2008        492481   \n",
       "9           1          1  2008/2009     10  2008        492564   \n",
       "\n",
       "   home_team_api_id  away_team_api_id  home_team_goal  away_team_goal  \\\n",
       "8             10001              9986               1               0   \n",
       "9              8342              8571               4               1   \n",
       "\n",
       "   home_player_X1  home_player_X2 ...    SJH  SJD   SJA   VCH   VCD  VCA  \\\n",
       "8            -1.0            -1.0 ...   2.20  3.3   3.1  2.25  3.25  2.8   \n",
       "9            -1.0            -1.0 ...   1.27  5.0  10.0  1.30  4.35  8.5   \n",
       "\n",
       "    GBH  GBD   GBA   BSH  BSD  BSA  \n",
       "8  2.20  3.3   2.8  2.25  3.2  2.8  \n",
       "9  1.25  5.0  10.0  1.29  4.5  9.0  \n",
       "\n",
       "[2 rows x 114 columns]"
      ]
     },
     "metadata": {},
     "output_type": "display_data"
    }
   ],
   "source": [
    "ruta = \"ruta al archivo sqlite\"                             # Path al archivo sqlite\n",
    "conection = sqlite3.connect(ruta)                       # Conección a la base de datos a utilizar\n",
    "equipos = pd.read_sql(\"select * from Team\", conection)  # Consulta para cargar la tabla de equipos\n",
    "\n",
    "equipos.drop(axis=1, labels=[\"team_fifa_api_id\", \"team_short_name\", \"id\"], inplace=True)  # Eliminando columnas innecesarias\n",
    "\n",
    "equipos.fillna(-1, inplace=True)                        # Rellanar los valores nulos con '-1'\n",
    "print(\"Equipos\")\n",
    "display(equipos[5:7])\n",
    "\n",
    "pd.options.display.max_columns = 25                     # Seteando cuantas columnas mostrar al imprimir un dataframe\n",
    "\n",
    "e_stats = pd.read_sql(\"select * from Team_Attributes\", conection)\n",
    "e_stats[\"date\"] = pd.DatetimeIndex(e_stats[\"date\"]).year  # Para este ejemplo, solo nos interesa el año, por lo que\n",
    "                                                          # eliminamos el resto de la fecha\n",
    "e_stats.drop(axis=1, labels=[\"id\"], inplace=True)\n",
    "e_stats.fillna(-1, inplace=True)\n",
    "print(\"Estadisticas de los Equipos\")\n",
    "display(e_stats[5:7])\n",
    "\n",
    "partidos = pd.read_sql(\"select * from Match\", conection)\n",
    "partidos[\"date\"] = pd.DatetimeIndex(partidos[\"date\"]).year\n",
    "partidos.drop(axis=1, labels=[\"id\"], inplace=True)\n",
    "partidos.fillna(-1, inplace=True)\n",
    "print(\"Partidos\")\n",
    "display(partidos[8:10])"
   ]
  },
  {
   "cell_type": "markdown",
   "metadata": {},
   "source": [
    "#### Dado que se puede establecer una prescedencia entre los valores originales, hago manualmente los reemplazos para colocar esta prescedencia y que a futuro se puedan probar variantes intermedias"
   ]
  },
  {
   "cell_type": "code",
   "execution_count": 4,
   "metadata": {
    "collapsed": false
   },
   "outputs": [
    {
     "data": {
      "text/html": [
       "<div>\n",
       "<table border=\"1\" class=\"dataframe\">\n",
       "  <thead>\n",
       "    <tr style=\"text-align: right;\">\n",
       "      <th></th>\n",
       "      <th>team_fifa_api_id</th>\n",
       "      <th>team_api_id</th>\n",
       "      <th>date</th>\n",
       "      <th>buildUpPlaySpeed</th>\n",
       "      <th>buildUpPlaySpeedClass</th>\n",
       "      <th>buildUpPlayDribbling</th>\n",
       "      <th>buildUpPlayDribblingClass</th>\n",
       "      <th>buildUpPlayPassing</th>\n",
       "      <th>buildUpPlayPassingClass</th>\n",
       "      <th>buildUpPlayPositioningClass</th>\n",
       "      <th>chanceCreationPassing</th>\n",
       "      <th>chanceCreationPassingClass</th>\n",
       "      <th>chanceCreationCrossing</th>\n",
       "      <th>chanceCreationCrossingClass</th>\n",
       "      <th>chanceCreationShooting</th>\n",
       "      <th>chanceCreationShootingClass</th>\n",
       "      <th>chanceCreationPositioningClass</th>\n",
       "      <th>defencePressure</th>\n",
       "      <th>defencePressureClass</th>\n",
       "      <th>defenceAggression</th>\n",
       "      <th>defenceAggressionClass</th>\n",
       "      <th>defenceTeamWidth</th>\n",
       "      <th>defenceTeamWidthClass</th>\n",
       "      <th>defenceDefenderLineClass</th>\n",
       "    </tr>\n",
       "  </thead>\n",
       "  <tbody>\n",
       "    <tr>\n",
       "      <th>2</th>\n",
       "      <td>434</td>\n",
       "      <td>9930</td>\n",
       "      <td>2015</td>\n",
       "      <td>47</td>\n",
       "      <td>1</td>\n",
       "      <td>41.0</td>\n",
       "      <td>1</td>\n",
       "      <td>54</td>\n",
       "      <td>1</td>\n",
       "      <td>1</td>\n",
       "      <td>54</td>\n",
       "      <td>1</td>\n",
       "      <td>63</td>\n",
       "      <td>1</td>\n",
       "      <td>64</td>\n",
       "      <td>1</td>\n",
       "      <td>1</td>\n",
       "      <td>47</td>\n",
       "      <td>1</td>\n",
       "      <td>44</td>\n",
       "      <td>2</td>\n",
       "      <td>54</td>\n",
       "      <td>1</td>\n",
       "      <td>0</td>\n",
       "    </tr>\n",
       "    <tr>\n",
       "      <th>3</th>\n",
       "      <td>77</td>\n",
       "      <td>8485</td>\n",
       "      <td>2010</td>\n",
       "      <td>70</td>\n",
       "      <td>2</td>\n",
       "      <td>-1.0</td>\n",
       "      <td>0</td>\n",
       "      <td>70</td>\n",
       "      <td>2</td>\n",
       "      <td>1</td>\n",
       "      <td>70</td>\n",
       "      <td>2</td>\n",
       "      <td>70</td>\n",
       "      <td>2</td>\n",
       "      <td>70</td>\n",
       "      <td>2</td>\n",
       "      <td>1</td>\n",
       "      <td>60</td>\n",
       "      <td>1</td>\n",
       "      <td>70</td>\n",
       "      <td>1</td>\n",
       "      <td>70</td>\n",
       "      <td>2</td>\n",
       "      <td>0</td>\n",
       "    </tr>\n",
       "  </tbody>\n",
       "</table>\n",
       "</div>"
      ],
      "text/plain": [
       "   team_fifa_api_id  team_api_id  date  buildUpPlaySpeed  \\\n",
       "2               434         9930  2015                47   \n",
       "3                77         8485  2010                70   \n",
       "\n",
       "   buildUpPlaySpeedClass  buildUpPlayDribbling  buildUpPlayDribblingClass  \\\n",
       "2                      1                  41.0                          1   \n",
       "3                      2                  -1.0                          0   \n",
       "\n",
       "   buildUpPlayPassing  buildUpPlayPassingClass  buildUpPlayPositioningClass  \\\n",
       "2                  54                        1                            1   \n",
       "3                  70                        2                            1   \n",
       "\n",
       "   chanceCreationPassing  chanceCreationPassingClass  chanceCreationCrossing  \\\n",
       "2                     54                           1                      63   \n",
       "3                     70                           2                      70   \n",
       "\n",
       "   chanceCreationCrossingClass  chanceCreationShooting  \\\n",
       "2                            1                      64   \n",
       "3                            2                      70   \n",
       "\n",
       "   chanceCreationShootingClass  chanceCreationPositioningClass  \\\n",
       "2                            1                               1   \n",
       "3                            2                               1   \n",
       "\n",
       "   defencePressure defencePressureClass  defenceAggression  \\\n",
       "2               47                    1                 44   \n",
       "3               60                    1                 70   \n",
       "\n",
       "   defenceAggressionClass  defenceTeamWidth  defenceTeamWidthClass  \\\n",
       "2                       2                54                      1   \n",
       "3                       1                70                      2   \n",
       "\n",
       "   defenceDefenderLineClass  \n",
       "2                         0  \n",
       "3                         0  "
      ]
     },
     "execution_count": 4,
     "metadata": {},
     "output_type": "execute_result"
    }
   ],
   "source": [
    "replaces = {\"buildUpPlaySpeedClass\":{\"Slow\":0, \"Balanced\":1, \"Fast\":2},\n",
    "            \"buildUpPlayDribblingClass\":{\"Little\":0, \"Normal\":1, \"Lots\":2},\n",
    "            \"buildUpPlayPassingClass\": {\"Short\":0, \"Mixed\":1, \"Long\":2},\n",
    "            \"buildUpPlayPositioningClass\": {\"Free Form\":0, \"Organised\":1},\n",
    "            \"chanceCreationPassingClass\": {\"Safe\":0, \"Normal\":1, \"Risky\":2},\n",
    "            \"chanceCreationCrossingClass\": {\"Little\":0, \"Normal\":1, \"Lots\":2},\n",
    "            \"chanceCreationShootingClass\": {\"Little\":0, \"Normal\":1, \"Lots\":2},\n",
    "            \"chanceCreationPositioningClass\": {\"Free Form\":0, \"Organised\":1},\n",
    "            \"defencePressureClass\": {\"Deep\":0, \"Medium\":1, \"High\":\"2\"},\n",
    "            \"defenceAggressionClass\": {\"Contain\":0, \"Double\":1, \"Press\": 2},\n",
    "            \"defenceTeamWidthClass\": {\"Narrow\":0, \"Normal\":1, \"Wide\":2},\n",
    "            \"defenceDefenderLineClass\": {\"Cover\":0, \"Offside Trap\": 1}\n",
    "           }\n",
    "c_stats = e_stats.replace(replaces)\n",
    "c_stats[2:4]\n",
    "# pd.factirize"
   ]
  },
  {
   "cell_type": "markdown",
   "metadata": {},
   "source": [
    "#### En caso de que el orden no importe, se puede hacer rápido y limpio de la siguiente manera"
   ]
  },
  {
   "cell_type": "code",
   "execution_count": 5,
   "metadata": {
    "collapsed": false
   },
   "outputs": [
    {
     "data": {
      "text/html": [
       "<div>\n",
       "<table border=\"1\" class=\"dataframe\">\n",
       "  <thead>\n",
       "    <tr style=\"text-align: right;\">\n",
       "      <th></th>\n",
       "      <th>team_fifa_api_id</th>\n",
       "      <th>team_api_id</th>\n",
       "      <th>date</th>\n",
       "      <th>buildUpPlaySpeed</th>\n",
       "      <th>buildUpPlaySpeedClass</th>\n",
       "      <th>buildUpPlayDribbling</th>\n",
       "      <th>buildUpPlayDribblingClass</th>\n",
       "      <th>buildUpPlayPassing</th>\n",
       "      <th>buildUpPlayPassingClass</th>\n",
       "      <th>buildUpPlayPositioningClass</th>\n",
       "      <th>chanceCreationPassing</th>\n",
       "      <th>chanceCreationPassingClass</th>\n",
       "      <th>chanceCreationCrossing</th>\n",
       "      <th>chanceCreationCrossingClass</th>\n",
       "      <th>chanceCreationShooting</th>\n",
       "      <th>chanceCreationShootingClass</th>\n",
       "      <th>chanceCreationPositioningClass</th>\n",
       "      <th>defencePressure</th>\n",
       "      <th>defencePressureClass</th>\n",
       "      <th>defenceAggression</th>\n",
       "      <th>defenceAggressionClass</th>\n",
       "      <th>defenceTeamWidth</th>\n",
       "      <th>defenceTeamWidthClass</th>\n",
       "      <th>defenceDefenderLineClass</th>\n",
       "    </tr>\n",
       "  </thead>\n",
       "  <tbody>\n",
       "    <tr>\n",
       "      <th>0</th>\n",
       "      <td>0</td>\n",
       "      <td>0</td>\n",
       "      <td>0</td>\n",
       "      <td>0</td>\n",
       "      <td>0</td>\n",
       "      <td>0</td>\n",
       "      <td>0</td>\n",
       "      <td>0</td>\n",
       "      <td>0</td>\n",
       "      <td>0</td>\n",
       "      <td>0</td>\n",
       "      <td>0</td>\n",
       "      <td>0</td>\n",
       "      <td>0</td>\n",
       "      <td>0</td>\n",
       "      <td>0</td>\n",
       "      <td>0</td>\n",
       "      <td>0</td>\n",
       "      <td>0</td>\n",
       "      <td>0</td>\n",
       "      <td>0</td>\n",
       "      <td>0</td>\n",
       "      <td>0</td>\n",
       "      <td>0</td>\n",
       "    </tr>\n",
       "    <tr>\n",
       "      <th>1</th>\n",
       "      <td>0</td>\n",
       "      <td>0</td>\n",
       "      <td>1</td>\n",
       "      <td>1</td>\n",
       "      <td>0</td>\n",
       "      <td>1</td>\n",
       "      <td>1</td>\n",
       "      <td>1</td>\n",
       "      <td>0</td>\n",
       "      <td>0</td>\n",
       "      <td>1</td>\n",
       "      <td>0</td>\n",
       "      <td>1</td>\n",
       "      <td>0</td>\n",
       "      <td>1</td>\n",
       "      <td>0</td>\n",
       "      <td>0</td>\n",
       "      <td>1</td>\n",
       "      <td>0</td>\n",
       "      <td>1</td>\n",
       "      <td>0</td>\n",
       "      <td>1</td>\n",
       "      <td>0</td>\n",
       "      <td>0</td>\n",
       "    </tr>\n",
       "  </tbody>\n",
       "</table>\n",
       "</div>"
      ],
      "text/plain": [
       "   team_fifa_api_id  team_api_id  date  buildUpPlaySpeed  \\\n",
       "0                 0            0     0                 0   \n",
       "1                 0            0     1                 1   \n",
       "\n",
       "   buildUpPlaySpeedClass  buildUpPlayDribbling  buildUpPlayDribblingClass  \\\n",
       "0                      0                     0                          0   \n",
       "1                      0                     1                          1   \n",
       "\n",
       "   buildUpPlayPassing  buildUpPlayPassingClass  buildUpPlayPositioningClass  \\\n",
       "0                   0                        0                            0   \n",
       "1                   1                        0                            0   \n",
       "\n",
       "   chanceCreationPassing  chanceCreationPassingClass  chanceCreationCrossing  \\\n",
       "0                      0                           0                       0   \n",
       "1                      1                           0                       1   \n",
       "\n",
       "   chanceCreationCrossingClass  chanceCreationShooting  \\\n",
       "0                            0                       0   \n",
       "1                            0                       1   \n",
       "\n",
       "   chanceCreationShootingClass  chanceCreationPositioningClass  \\\n",
       "0                            0                               0   \n",
       "1                            0                               0   \n",
       "\n",
       "   defencePressure  defencePressureClass  defenceAggression  \\\n",
       "0                0                     0                  0   \n",
       "1                1                     0                  1   \n",
       "\n",
       "   defenceAggressionClass  defenceTeamWidth  defenceTeamWidthClass  \\\n",
       "0                       0                 0                      0   \n",
       "1                       0                 1                      0   \n",
       "\n",
       "   defenceDefenderLineClass  \n",
       "0                         0  \n",
       "1                         0  "
      ]
     },
     "execution_count": 5,
     "metadata": {},
     "output_type": "execute_result"
    }
   ],
   "source": [
    "# Factorize solo se puede aplicar columna por columna, y no se puede predefinir el orden.\n",
    "\n",
    "factorized_stats = pd.DataFrame()\n",
    "for c in e_stats.columns:\n",
    "    factorized_stats[c] = e_stats[c].factorize()[0]   # 'factorize' devuelve una tupla cuyo primer elemento es el arreglo\n",
    "                                                      # transformado, y el segundo, las keys encontradas\n",
    "\n",
    "factorized_stats[:2]"
   ]
  },
  {
   "cell_type": "code",
   "execution_count": 6,
   "metadata": {
    "collapsed": false
   },
   "outputs": [
    {
     "data": {
      "text/html": [
       "<div>\n",
       "<table border=\"1\" class=\"dataframe\">\n",
       "  <thead>\n",
       "    <tr style=\"text-align: right;\">\n",
       "      <th></th>\n",
       "      <th>fecha</th>\n",
       "      <th>id_local</th>\n",
       "      <th>id_visitante</th>\n",
       "      <th>goles_l</th>\n",
       "      <th>goles_v</th>\n",
       "    </tr>\n",
       "  </thead>\n",
       "  <tbody>\n",
       "    <tr>\n",
       "      <th>0</th>\n",
       "      <td>2008</td>\n",
       "      <td>9987</td>\n",
       "      <td>9993</td>\n",
       "      <td>1</td>\n",
       "      <td>1</td>\n",
       "    </tr>\n",
       "    <tr>\n",
       "      <th>1</th>\n",
       "      <td>2008</td>\n",
       "      <td>10000</td>\n",
       "      <td>9994</td>\n",
       "      <td>0</td>\n",
       "      <td>0</td>\n",
       "    </tr>\n",
       "  </tbody>\n",
       "</table>\n",
       "</div>"
      ],
      "text/plain": [
       "   fecha  id_local  id_visitante  goles_l  goles_v\n",
       "0   2008      9987          9993        1        1\n",
       "1   2008     10000          9994        0        0"
      ]
     },
     "execution_count": 6,
     "metadata": {},
     "output_type": "execute_result"
    }
   ],
   "source": [
    "# Dejando solo las columnas de interes\n",
    "encuentros = partidos[[\"date\", \"home_team_api_id\", \"away_team_api_id\",\"home_team_goal\",\"away_team_goal\"]]\n",
    "index = [\"fecha\", \"id_local\", \"id_visitante\", \"goles_l\", \"goles_v\"]       # Reindexando por nombres más amigables\n",
    "encuentros.columns= index\n",
    "encuentros[:2]"
   ]
  },
  {
   "cell_type": "markdown",
   "metadata": {},
   "source": [
    "### Combinando los datos que si nos interesan"
   ]
  },
  {
   "cell_type": "code",
   "execution_count": 7,
   "metadata": {
    "collapsed": false
   },
   "outputs": [
    {
     "data": {
      "text/html": [
       "<div>\n",
       "<table border=\"1\" class=\"dataframe\">\n",
       "  <thead>\n",
       "    <tr style=\"text-align: right;\">\n",
       "      <th></th>\n",
       "      <th>fecha</th>\n",
       "      <th>id_local</th>\n",
       "      <th>id_visitante</th>\n",
       "      <th>goles_l</th>\n",
       "      <th>goles_v</th>\n",
       "      <th>team_api_id_x</th>\n",
       "      <th>team_long_name_x</th>\n",
       "      <th>team_api_id_y</th>\n",
       "      <th>team_long_name_y</th>\n",
       "    </tr>\n",
       "  </thead>\n",
       "  <tbody>\n",
       "    <tr>\n",
       "      <th>10</th>\n",
       "      <td>2008</td>\n",
       "      <td>9985</td>\n",
       "      <td>9986</td>\n",
       "      <td>1</td>\n",
       "      <td>2</td>\n",
       "      <td>9985</td>\n",
       "      <td>Standard de Liège</td>\n",
       "      <td>9986</td>\n",
       "      <td>Sporting Charleroi</td>\n",
       "    </tr>\n",
       "    <tr>\n",
       "      <th>11</th>\n",
       "      <td>2008</td>\n",
       "      <td>10000</td>\n",
       "      <td>9991</td>\n",
       "      <td>0</td>\n",
       "      <td>2</td>\n",
       "      <td>10000</td>\n",
       "      <td>SV Zulte-Waregem</td>\n",
       "      <td>9991</td>\n",
       "      <td>KAA Gent</td>\n",
       "    </tr>\n",
       "  </tbody>\n",
       "</table>\n",
       "</div>"
      ],
      "text/plain": [
       "    fecha  id_local  id_visitante  goles_l  goles_v  team_api_id_x  \\\n",
       "10   2008      9985          9986        1        2           9985   \n",
       "11   2008     10000          9991        0        2          10000   \n",
       "\n",
       "     team_long_name_x  team_api_id_y    team_long_name_y  \n",
       "10  Standard de Liège           9986  Sporting Charleroi  \n",
       "11   SV Zulte-Waregem           9991            KAA Gent  "
      ]
     },
     "execution_count": 7,
     "metadata": {},
     "output_type": "execute_result"
    }
   ],
   "source": [
    "# Pandas permite hacer uniones al estilo SQL. En este caso, ambas operaciones equivalen a dos Joins (left-outer Join)\n",
    "data_encuentros = pd.merge(encuentros, equipos, left_on=\"id_local\", right_on=\"team_api_id\", how=\"left\")\n",
    "data_encuentros = pd.merge(data_encuentros, equipos, left_on=\"id_visitante\", right_on=\"team_api_id\", how=\"left\")\n",
    "data_encuentros[10:12]"
   ]
  },
  {
   "cell_type": "code",
   "execution_count": 8,
   "metadata": {
    "collapsed": false
   },
   "outputs": [
    {
     "data": {
      "text/html": [
       "<div>\n",
       "<table border=\"1\" class=\"dataframe\">\n",
       "  <thead>\n",
       "    <tr style=\"text-align: right;\">\n",
       "      <th></th>\n",
       "      <th>fecha</th>\n",
       "      <th>id_local</th>\n",
       "      <th>id_visitante</th>\n",
       "      <th>goles_l</th>\n",
       "      <th>goles_v</th>\n",
       "      <th>team_api_id_x</th>\n",
       "      <th>team_long_name_x</th>\n",
       "      <th>team_api_id_y</th>\n",
       "      <th>team_long_name_y</th>\n",
       "      <th>team_fifa_api_id</th>\n",
       "      <th>team_api_id</th>\n",
       "      <th>date</th>\n",
       "      <th>...</th>\n",
       "      <th>chanceCreationCrossing_vis</th>\n",
       "      <th>chanceCreationCrossingClass_vis</th>\n",
       "      <th>chanceCreationShooting_vis</th>\n",
       "      <th>chanceCreationShootingClass_vis</th>\n",
       "      <th>chanceCreationPositioningClass_vis</th>\n",
       "      <th>defencePressure_vis</th>\n",
       "      <th>defencePressureClass_vis</th>\n",
       "      <th>defenceAggression_vis</th>\n",
       "      <th>defenceAggressionClass_vis</th>\n",
       "      <th>defenceTeamWidth_vis</th>\n",
       "      <th>defenceTeamWidthClass_vis</th>\n",
       "      <th>defenceDefenderLineClass_vis</th>\n",
       "    </tr>\n",
       "  </thead>\n",
       "  <tbody>\n",
       "    <tr>\n",
       "      <th>10</th>\n",
       "      <td>2008</td>\n",
       "      <td>9985</td>\n",
       "      <td>9986</td>\n",
       "      <td>1</td>\n",
       "      <td>2</td>\n",
       "      <td>9985</td>\n",
       "      <td>Standard de Liège</td>\n",
       "      <td>9986</td>\n",
       "      <td>Sporting Charleroi</td>\n",
       "      <td>-1.0</td>\n",
       "      <td>-1.0</td>\n",
       "      <td>-1.0</td>\n",
       "      <td>...</td>\n",
       "      <td>-1.0</td>\n",
       "      <td>-1.0</td>\n",
       "      <td>-1.0</td>\n",
       "      <td>-1.0</td>\n",
       "      <td>-1.0</td>\n",
       "      <td>-1.0</td>\n",
       "      <td>-1</td>\n",
       "      <td>-1.0</td>\n",
       "      <td>-1.0</td>\n",
       "      <td>-1.0</td>\n",
       "      <td>-1.0</td>\n",
       "      <td>-1.0</td>\n",
       "    </tr>\n",
       "    <tr>\n",
       "      <th>11</th>\n",
       "      <td>2008</td>\n",
       "      <td>10000</td>\n",
       "      <td>9991</td>\n",
       "      <td>0</td>\n",
       "      <td>2</td>\n",
       "      <td>10000</td>\n",
       "      <td>SV Zulte-Waregem</td>\n",
       "      <td>9991</td>\n",
       "      <td>KAA Gent</td>\n",
       "      <td>-1.0</td>\n",
       "      <td>-1.0</td>\n",
       "      <td>-1.0</td>\n",
       "      <td>...</td>\n",
       "      <td>-1.0</td>\n",
       "      <td>-1.0</td>\n",
       "      <td>-1.0</td>\n",
       "      <td>-1.0</td>\n",
       "      <td>-1.0</td>\n",
       "      <td>-1.0</td>\n",
       "      <td>-1</td>\n",
       "      <td>-1.0</td>\n",
       "      <td>-1.0</td>\n",
       "      <td>-1.0</td>\n",
       "      <td>-1.0</td>\n",
       "      <td>-1.0</td>\n",
       "    </tr>\n",
       "  </tbody>\n",
       "</table>\n",
       "<p>2 rows × 57 columns</p>\n",
       "</div>"
      ],
      "text/plain": [
       "    fecha  id_local  id_visitante  goles_l  goles_v  team_api_id_x  \\\n",
       "10   2008      9985          9986        1        2           9985   \n",
       "11   2008     10000          9991        0        2          10000   \n",
       "\n",
       "     team_long_name_x  team_api_id_y    team_long_name_y  team_fifa_api_id  \\\n",
       "10  Standard de Liège           9986  Sporting Charleroi              -1.0   \n",
       "11   SV Zulte-Waregem           9991            KAA Gent              -1.0   \n",
       "\n",
       "    team_api_id  date              ...               \\\n",
       "10         -1.0  -1.0              ...                \n",
       "11         -1.0  -1.0              ...                \n",
       "\n",
       "    chanceCreationCrossing_vis  chanceCreationCrossingClass_vis  \\\n",
       "10                        -1.0                             -1.0   \n",
       "11                        -1.0                             -1.0   \n",
       "\n",
       "    chanceCreationShooting_vis  chanceCreationShootingClass_vis  \\\n",
       "10                        -1.0                             -1.0   \n",
       "11                        -1.0                             -1.0   \n",
       "\n",
       "    chanceCreationPositioningClass_vis  defencePressure_vis  \\\n",
       "10                                -1.0                 -1.0   \n",
       "11                                -1.0                 -1.0   \n",
       "\n",
       "    defencePressureClass_vis  defenceAggression_vis  \\\n",
       "10                        -1                   -1.0   \n",
       "11                        -1                   -1.0   \n",
       "\n",
       "    defenceAggressionClass_vis  defenceTeamWidth_vis  \\\n",
       "10                        -1.0                  -1.0   \n",
       "11                        -1.0                  -1.0   \n",
       "\n",
       "    defenceTeamWidthClass_vis  defenceDefenderLineClass_vis  \n",
       "10                       -1.0                          -1.0  \n",
       "11                       -1.0                          -1.0  \n",
       "\n",
       "[2 rows x 57 columns]"
      ]
     },
     "execution_count": 8,
     "metadata": {},
     "output_type": "execute_result"
    }
   ],
   "source": [
    "# Idem anterior, pero esta vez con los stats de cada equipo.\n",
    "data_encuentros = pd.merge(data_encuentros, c_stats, left_on=[\"fecha\", \"id_local\"], right_on=[\"date\", \"team_api_id\"], how=\"left\")\n",
    "data_encuentros = pd.merge(data_encuentros, c_stats, left_on=[\"fecha\", \"id_visitante\"], right_on=[\"date\", \"team_api_id\"], suffixes=('', '_vis'), how=\"left\")\n",
    "data_encuentros.fillna(-1, inplace=True)\n",
    "data_encuentros[10:12]"
   ]
  },
  {
   "cell_type": "code",
   "execution_count": 9,
   "metadata": {
    "collapsed": false
   },
   "outputs": [
    {
     "data": {
      "text/plain": [
       "(25979, 57)"
      ]
     },
     "execution_count": 9,
     "metadata": {},
     "output_type": "execute_result"
    }
   ],
   "source": [
    "# Revisando el tamaño final de nuestro conjunto\n",
    "data_encuentros.shape"
   ]
  },
  {
   "cell_type": "code",
   "execution_count": 10,
   "metadata": {
    "collapsed": true
   },
   "outputs": [],
   "source": [
    "# Guardando el nuevo dataset para no tener que realizar la misma tarea cada vez\n",
    "data_encuentros.to_csv(\"data_encuentros.csv\")"
   ]
  },
  {
   "cell_type": "markdown",
   "metadata": {},
   "source": [
    "# Obteniendo las Clases"
   ]
  },
  {
   "cell_type": "code",
   "execution_count": 11,
   "metadata": {
    "collapsed": false
   },
   "outputs": [],
   "source": [
    "# obteniendo columnas de resultados para el entrenamiento\n",
    "\n",
    "win = data_encuentros.apply(lambda x: ganador (x), axis=1)\n",
    "defeat = data_encuentros.apply(lambda x: perdedor (x), axis=1)\n",
    "match_result = data_encuentros.apply(lambda x: resultado (x), axis=1)"
   ]
  },
  {
   "cell_type": "markdown",
   "metadata": {},
   "source": [
    "# Eliminando datos sin utilidad"
   ]
  },
  {
   "cell_type": "code",
   "execution_count": 12,
   "metadata": {
    "collapsed": false
   },
   "outputs": [
    {
     "data": {
      "text/html": [
       "<div>\n",
       "<table border=\"1\" class=\"dataframe\">\n",
       "  <thead>\n",
       "    <tr style=\"text-align: right;\">\n",
       "      <th></th>\n",
       "      <th>fecha</th>\n",
       "      <th>id_local</th>\n",
       "      <th>id_visitante</th>\n",
       "      <th>goles_l</th>\n",
       "      <th>goles_v</th>\n",
       "      <th>team_api_id_x</th>\n",
       "      <th>team_long_name_x</th>\n",
       "      <th>team_api_id_y</th>\n",
       "      <th>team_long_name_y</th>\n",
       "      <th>team_fifa_api_id</th>\n",
       "      <th>team_api_id</th>\n",
       "      <th>date</th>\n",
       "      <th>buildUpPlaySpeed</th>\n",
       "      <th>buildUpPlaySpeedClass</th>\n",
       "      <th>buildUpPlayDribbling</th>\n",
       "      <th>buildUpPlayDribblingClass</th>\n",
       "      <th>buildUpPlayPassing</th>\n",
       "      <th>buildUpPlayPassingClass</th>\n",
       "      <th>buildUpPlayPositioningClass</th>\n",
       "      <th>chanceCreationPassing</th>\n",
       "      <th>chanceCreationPassingClass</th>\n",
       "      <th>chanceCreationCrossing</th>\n",
       "      <th>chanceCreationCrossingClass</th>\n",
       "      <th>chanceCreationShooting</th>\n",
       "      <th>chanceCreationShootingClass</th>\n",
       "      <th>chanceCreationPositioningClass</th>\n",
       "      <th>defencePressure</th>\n",
       "      <th>defencePressureClass</th>\n",
       "      <th>defenceAggression</th>\n",
       "      <th>defenceAggressionClass</th>\n",
       "      <th>defenceTeamWidth</th>\n",
       "      <th>defenceTeamWidthClass</th>\n",
       "      <th>defenceDefenderLineClass</th>\n",
       "      <th>team_fifa_api_id_vis</th>\n",
       "      <th>team_api_id_vis</th>\n",
       "      <th>date_vis</th>\n",
       "      <th>buildUpPlaySpeed_vis</th>\n",
       "      <th>buildUpPlaySpeedClass_vis</th>\n",
       "      <th>buildUpPlayDribbling_vis</th>\n",
       "      <th>buildUpPlayDribblingClass_vis</th>\n",
       "      <th>buildUpPlayPassing_vis</th>\n",
       "      <th>buildUpPlayPassingClass_vis</th>\n",
       "      <th>buildUpPlayPositioningClass_vis</th>\n",
       "      <th>chanceCreationPassing_vis</th>\n",
       "      <th>chanceCreationPassingClass_vis</th>\n",
       "      <th>chanceCreationCrossing_vis</th>\n",
       "      <th>chanceCreationCrossingClass_vis</th>\n",
       "      <th>chanceCreationShooting_vis</th>\n",
       "      <th>chanceCreationShootingClass_vis</th>\n",
       "      <th>chanceCreationPositioningClass_vis</th>\n",
       "      <th>defencePressure_vis</th>\n",
       "      <th>defencePressureClass_vis</th>\n",
       "      <th>defenceAggression_vis</th>\n",
       "      <th>defenceAggressionClass_vis</th>\n",
       "      <th>defenceTeamWidth_vis</th>\n",
       "      <th>defenceTeamWidthClass_vis</th>\n",
       "      <th>defenceDefenderLineClass_vis</th>\n",
       "    </tr>\n",
       "  </thead>\n",
       "  <tbody>\n",
       "    <tr>\n",
       "      <th>0</th>\n",
       "      <td>2008</td>\n",
       "      <td>9987</td>\n",
       "      <td>9993</td>\n",
       "      <td>1</td>\n",
       "      <td>1</td>\n",
       "      <td>9987</td>\n",
       "      <td>KRC Genk</td>\n",
       "      <td>9993</td>\n",
       "      <td>Beerschot AC</td>\n",
       "      <td>-1.0</td>\n",
       "      <td>-1.0</td>\n",
       "      <td>-1.0</td>\n",
       "      <td>-1.0</td>\n",
       "      <td>-1.0</td>\n",
       "      <td>-1.0</td>\n",
       "      <td>-1.0</td>\n",
       "      <td>-1.0</td>\n",
       "      <td>-1.0</td>\n",
       "      <td>-1.0</td>\n",
       "      <td>-1.0</td>\n",
       "      <td>-1.0</td>\n",
       "      <td>-1.0</td>\n",
       "      <td>-1.0</td>\n",
       "      <td>-1.0</td>\n",
       "      <td>-1.0</td>\n",
       "      <td>-1.0</td>\n",
       "      <td>-1.0</td>\n",
       "      <td>-1</td>\n",
       "      <td>-1.0</td>\n",
       "      <td>-1.0</td>\n",
       "      <td>-1.0</td>\n",
       "      <td>-1.0</td>\n",
       "      <td>-1.0</td>\n",
       "      <td>-1.0</td>\n",
       "      <td>-1.0</td>\n",
       "      <td>-1.0</td>\n",
       "      <td>-1.0</td>\n",
       "      <td>-1.0</td>\n",
       "      <td>-1.0</td>\n",
       "      <td>-1.0</td>\n",
       "      <td>-1.0</td>\n",
       "      <td>-1.0</td>\n",
       "      <td>-1.0</td>\n",
       "      <td>-1.0</td>\n",
       "      <td>-1.0</td>\n",
       "      <td>-1.0</td>\n",
       "      <td>-1.0</td>\n",
       "      <td>-1.0</td>\n",
       "      <td>-1.0</td>\n",
       "      <td>-1.0</td>\n",
       "      <td>-1.0</td>\n",
       "      <td>-1</td>\n",
       "      <td>-1.0</td>\n",
       "      <td>-1.0</td>\n",
       "      <td>-1.0</td>\n",
       "      <td>-1.0</td>\n",
       "      <td>-1.0</td>\n",
       "    </tr>\n",
       "    <tr>\n",
       "      <th>1</th>\n",
       "      <td>2008</td>\n",
       "      <td>10000</td>\n",
       "      <td>9994</td>\n",
       "      <td>0</td>\n",
       "      <td>0</td>\n",
       "      <td>10000</td>\n",
       "      <td>SV Zulte-Waregem</td>\n",
       "      <td>9994</td>\n",
       "      <td>Sporting Lokeren</td>\n",
       "      <td>-1.0</td>\n",
       "      <td>-1.0</td>\n",
       "      <td>-1.0</td>\n",
       "      <td>-1.0</td>\n",
       "      <td>-1.0</td>\n",
       "      <td>-1.0</td>\n",
       "      <td>-1.0</td>\n",
       "      <td>-1.0</td>\n",
       "      <td>-1.0</td>\n",
       "      <td>-1.0</td>\n",
       "      <td>-1.0</td>\n",
       "      <td>-1.0</td>\n",
       "      <td>-1.0</td>\n",
       "      <td>-1.0</td>\n",
       "      <td>-1.0</td>\n",
       "      <td>-1.0</td>\n",
       "      <td>-1.0</td>\n",
       "      <td>-1.0</td>\n",
       "      <td>-1</td>\n",
       "      <td>-1.0</td>\n",
       "      <td>-1.0</td>\n",
       "      <td>-1.0</td>\n",
       "      <td>-1.0</td>\n",
       "      <td>-1.0</td>\n",
       "      <td>-1.0</td>\n",
       "      <td>-1.0</td>\n",
       "      <td>-1.0</td>\n",
       "      <td>-1.0</td>\n",
       "      <td>-1.0</td>\n",
       "      <td>-1.0</td>\n",
       "      <td>-1.0</td>\n",
       "      <td>-1.0</td>\n",
       "      <td>-1.0</td>\n",
       "      <td>-1.0</td>\n",
       "      <td>-1.0</td>\n",
       "      <td>-1.0</td>\n",
       "      <td>-1.0</td>\n",
       "      <td>-1.0</td>\n",
       "      <td>-1.0</td>\n",
       "      <td>-1.0</td>\n",
       "      <td>-1.0</td>\n",
       "      <td>-1.0</td>\n",
       "      <td>-1</td>\n",
       "      <td>-1.0</td>\n",
       "      <td>-1.0</td>\n",
       "      <td>-1.0</td>\n",
       "      <td>-1.0</td>\n",
       "      <td>-1.0</td>\n",
       "    </tr>\n",
       "  </tbody>\n",
       "</table>\n",
       "</div>"
      ],
      "text/plain": [
       "   fecha  id_local  id_visitante  goles_l  goles_v  team_api_id_x  \\\n",
       "0   2008      9987          9993        1        1           9987   \n",
       "1   2008     10000          9994        0        0          10000   \n",
       "\n",
       "   team_long_name_x  team_api_id_y  team_long_name_y  team_fifa_api_id  \\\n",
       "0          KRC Genk           9993      Beerschot AC              -1.0   \n",
       "1  SV Zulte-Waregem           9994  Sporting Lokeren              -1.0   \n",
       "\n",
       "   team_api_id  date  buildUpPlaySpeed  buildUpPlaySpeedClass  \\\n",
       "0         -1.0  -1.0              -1.0                   -1.0   \n",
       "1         -1.0  -1.0              -1.0                   -1.0   \n",
       "\n",
       "   buildUpPlayDribbling  buildUpPlayDribblingClass  buildUpPlayPassing  \\\n",
       "0                  -1.0                       -1.0                -1.0   \n",
       "1                  -1.0                       -1.0                -1.0   \n",
       "\n",
       "   buildUpPlayPassingClass  buildUpPlayPositioningClass  \\\n",
       "0                     -1.0                         -1.0   \n",
       "1                     -1.0                         -1.0   \n",
       "\n",
       "   chanceCreationPassing  chanceCreationPassingClass  chanceCreationCrossing  \\\n",
       "0                   -1.0                        -1.0                    -1.0   \n",
       "1                   -1.0                        -1.0                    -1.0   \n",
       "\n",
       "   chanceCreationCrossingClass  chanceCreationShooting  \\\n",
       "0                         -1.0                    -1.0   \n",
       "1                         -1.0                    -1.0   \n",
       "\n",
       "   chanceCreationShootingClass  chanceCreationPositioningClass  \\\n",
       "0                         -1.0                            -1.0   \n",
       "1                         -1.0                            -1.0   \n",
       "\n",
       "   defencePressure defencePressureClass  defenceAggression  \\\n",
       "0             -1.0                   -1               -1.0   \n",
       "1             -1.0                   -1               -1.0   \n",
       "\n",
       "   defenceAggressionClass  defenceTeamWidth  defenceTeamWidthClass  \\\n",
       "0                    -1.0              -1.0                   -1.0   \n",
       "1                    -1.0              -1.0                   -1.0   \n",
       "\n",
       "   defenceDefenderLineClass  team_fifa_api_id_vis  team_api_id_vis  date_vis  \\\n",
       "0                      -1.0                  -1.0             -1.0      -1.0   \n",
       "1                      -1.0                  -1.0             -1.0      -1.0   \n",
       "\n",
       "   buildUpPlaySpeed_vis  buildUpPlaySpeedClass_vis  buildUpPlayDribbling_vis  \\\n",
       "0                  -1.0                       -1.0                      -1.0   \n",
       "1                  -1.0                       -1.0                      -1.0   \n",
       "\n",
       "   buildUpPlayDribblingClass_vis  buildUpPlayPassing_vis  \\\n",
       "0                           -1.0                    -1.0   \n",
       "1                           -1.0                    -1.0   \n",
       "\n",
       "   buildUpPlayPassingClass_vis  buildUpPlayPositioningClass_vis  \\\n",
       "0                         -1.0                             -1.0   \n",
       "1                         -1.0                             -1.0   \n",
       "\n",
       "   chanceCreationPassing_vis  chanceCreationPassingClass_vis  \\\n",
       "0                       -1.0                            -1.0   \n",
       "1                       -1.0                            -1.0   \n",
       "\n",
       "   chanceCreationCrossing_vis  chanceCreationCrossingClass_vis  \\\n",
       "0                        -1.0                             -1.0   \n",
       "1                        -1.0                             -1.0   \n",
       "\n",
       "   chanceCreationShooting_vis  chanceCreationShootingClass_vis  \\\n",
       "0                        -1.0                             -1.0   \n",
       "1                        -1.0                             -1.0   \n",
       "\n",
       "   chanceCreationPositioningClass_vis  defencePressure_vis  \\\n",
       "0                                -1.0                 -1.0   \n",
       "1                                -1.0                 -1.0   \n",
       "\n",
       "  defencePressureClass_vis  defenceAggression_vis  defenceAggressionClass_vis  \\\n",
       "0                       -1                   -1.0                        -1.0   \n",
       "1                       -1                   -1.0                        -1.0   \n",
       "\n",
       "   defenceTeamWidth_vis  defenceTeamWidthClass_vis  \\\n",
       "0                  -1.0                       -1.0   \n",
       "1                  -1.0                       -1.0   \n",
       "\n",
       "   defenceDefenderLineClass_vis  \n",
       "0                          -1.0  \n",
       "1                          -1.0  "
      ]
     },
     "execution_count": 12,
     "metadata": {},
     "output_type": "execute_result"
    }
   ],
   "source": [
    "pd.options.display.max_columns = 100\n",
    "data_encuentros[:2]"
   ]
  },
  {
   "cell_type": "code",
   "execution_count": 13,
   "metadata": {
    "collapsed": false
   },
   "outputs": [
    {
     "data": {
      "text/plain": [
       "(25979, 24)"
      ]
     },
     "execution_count": 13,
     "metadata": {},
     "output_type": "execute_result"
    }
   ],
   "source": [
    "lastre = [\"team_api_id_x\", \"team_api_id_y\",\n",
    "          \"team_long_name_x\", \"team_long_name_y\",\n",
    "          \"team_fifa_api_id\", \"team_fifa_api_id_vis\",\n",
    "          \"team_api_id\", \"team_api_id_y\", \"team_api_id_vis\",\n",
    "          \"date\", \"date_vis\",\n",
    "          \"fecha\",\n",
    "          \"id_local\", \"id_visitante\",\n",
    "          \"goles_l\", \"goles_v\"\n",
    "        ]\n",
    "\n",
    "\n",
    "for c in data_encuentros.columns:\n",
    "    if \"Class\" not in c:\n",
    "        lastre.append(c)\n",
    "\n",
    "data = data_encuentros.drop(lastre, axis=1)\n",
    "\n",
    "# Escalando los datos a un mismo rango de valores, ya que algunos\n",
    "# clasificadores dan más importancia a features con rangos de valores \n",
    "# más elevados aunque tengan igual variabilidad que otros con rangos\n",
    "# más acotados (Ej:algunas Redes Neuronales)\n",
    "scaler = preprocessing.MinMaxScaler((-1,1))\n",
    "data = pd.DataFrame(scaler.fit_transform(data))\n",
    "\n",
    "data.shape"
   ]
  },
  {
   "cell_type": "code",
   "execution_count": 14,
   "metadata": {
    "collapsed": false
   },
   "outputs": [
    {
     "data": {
      "text/html": [
       "<div>\n",
       "<table border=\"1\" class=\"dataframe\">\n",
       "  <thead>\n",
       "    <tr style=\"text-align: right;\">\n",
       "      <th></th>\n",
       "      <th>0</th>\n",
       "      <th>1</th>\n",
       "      <th>2</th>\n",
       "      <th>3</th>\n",
       "      <th>4</th>\n",
       "      <th>5</th>\n",
       "      <th>6</th>\n",
       "      <th>7</th>\n",
       "      <th>8</th>\n",
       "      <th>9</th>\n",
       "      <th>10</th>\n",
       "      <th>11</th>\n",
       "      <th>12</th>\n",
       "      <th>13</th>\n",
       "      <th>14</th>\n",
       "      <th>15</th>\n",
       "      <th>16</th>\n",
       "      <th>17</th>\n",
       "      <th>18</th>\n",
       "      <th>19</th>\n",
       "      <th>20</th>\n",
       "      <th>21</th>\n",
       "      <th>22</th>\n",
       "      <th>23</th>\n",
       "    </tr>\n",
       "  </thead>\n",
       "  <tbody>\n",
       "    <tr>\n",
       "      <th>count</th>\n",
       "      <td>25979.000000</td>\n",
       "      <td>25979.000000</td>\n",
       "      <td>25979.000000</td>\n",
       "      <td>25979.000000</td>\n",
       "      <td>25979.000000</td>\n",
       "      <td>25979.000000</td>\n",
       "      <td>25979.000000</td>\n",
       "      <td>25979.000000</td>\n",
       "      <td>25979.000000</td>\n",
       "      <td>25979.000000</td>\n",
       "      <td>25979.000000</td>\n",
       "      <td>25979.000000</td>\n",
       "      <td>25979.000000</td>\n",
       "      <td>25979.000000</td>\n",
       "      <td>25979.000000</td>\n",
       "      <td>25979.000000</td>\n",
       "      <td>25979.000000</td>\n",
       "      <td>25979.000000</td>\n",
       "      <td>25979.000000</td>\n",
       "      <td>25979.000000</td>\n",
       "      <td>25979.000000</td>\n",
       "      <td>25979.000000</td>\n",
       "      <td>25979.000000</td>\n",
       "      <td>25979.000000</td>\n",
       "    </tr>\n",
       "    <tr>\n",
       "      <th>mean</th>\n",
       "      <td>-0.007326</td>\n",
       "      <td>-0.356249</td>\n",
       "      <td>-0.050336</td>\n",
       "      <td>0.400400</td>\n",
       "      <td>0.006865</td>\n",
       "      <td>0.023031</td>\n",
       "      <td>0.023057</td>\n",
       "      <td>0.355864</td>\n",
       "      <td>-0.062525</td>\n",
       "      <td>0.357455</td>\n",
       "      <td>-0.016308</td>\n",
       "      <td>-0.223835</td>\n",
       "      <td>-0.008250</td>\n",
       "      <td>-0.356429</td>\n",
       "      <td>-0.050079</td>\n",
       "      <td>0.400208</td>\n",
       "      <td>0.006865</td>\n",
       "      <td>0.022954</td>\n",
       "      <td>0.023108</td>\n",
       "      <td>0.356442</td>\n",
       "      <td>-0.062704</td>\n",
       "      <td>0.356942</td>\n",
       "      <td>-0.016642</td>\n",
       "      <td>-0.223796</td>\n",
       "    </tr>\n",
       "    <tr>\n",
       "      <th>std</th>\n",
       "      <td>0.663420</td>\n",
       "      <td>0.491261</td>\n",
       "      <td>0.628418</td>\n",
       "      <td>0.889694</td>\n",
       "      <td>0.659546</td>\n",
       "      <td>0.672871</td>\n",
       "      <td>0.671674</td>\n",
       "      <td>0.883573</td>\n",
       "      <td>0.615845</td>\n",
       "      <td>0.888204</td>\n",
       "      <td>0.636191</td>\n",
       "      <td>0.526801</td>\n",
       "      <td>0.662764</td>\n",
       "      <td>0.491375</td>\n",
       "      <td>0.628548</td>\n",
       "      <td>0.889759</td>\n",
       "      <td>0.659883</td>\n",
       "      <td>0.672873</td>\n",
       "      <td>0.671825</td>\n",
       "      <td>0.883754</td>\n",
       "      <td>0.616021</td>\n",
       "      <td>0.888218</td>\n",
       "      <td>0.636236</td>\n",
       "      <td>0.527000</td>\n",
       "    </tr>\n",
       "    <tr>\n",
       "      <th>min</th>\n",
       "      <td>-1.000000</td>\n",
       "      <td>-1.000000</td>\n",
       "      <td>-1.000000</td>\n",
       "      <td>-1.000000</td>\n",
       "      <td>-1.000000</td>\n",
       "      <td>-1.000000</td>\n",
       "      <td>-1.000000</td>\n",
       "      <td>-1.000000</td>\n",
       "      <td>-1.000000</td>\n",
       "      <td>-1.000000</td>\n",
       "      <td>-1.000000</td>\n",
       "      <td>-1.000000</td>\n",
       "      <td>-1.000000</td>\n",
       "      <td>-1.000000</td>\n",
       "      <td>-1.000000</td>\n",
       "      <td>-1.000000</td>\n",
       "      <td>-1.000000</td>\n",
       "      <td>-1.000000</td>\n",
       "      <td>-1.000000</td>\n",
       "      <td>-1.000000</td>\n",
       "      <td>-1.000000</td>\n",
       "      <td>-1.000000</td>\n",
       "      <td>-1.000000</td>\n",
       "      <td>-1.000000</td>\n",
       "    </tr>\n",
       "    <tr>\n",
       "      <th>25%</th>\n",
       "      <td>-1.000000</td>\n",
       "      <td>-1.000000</td>\n",
       "      <td>-1.000000</td>\n",
       "      <td>-1.000000</td>\n",
       "      <td>-1.000000</td>\n",
       "      <td>-1.000000</td>\n",
       "      <td>-1.000000</td>\n",
       "      <td>-1.000000</td>\n",
       "      <td>-1.000000</td>\n",
       "      <td>-1.000000</td>\n",
       "      <td>-1.000000</td>\n",
       "      <td>-1.000000</td>\n",
       "      <td>-1.000000</td>\n",
       "      <td>-1.000000</td>\n",
       "      <td>-1.000000</td>\n",
       "      <td>-1.000000</td>\n",
       "      <td>-1.000000</td>\n",
       "      <td>-1.000000</td>\n",
       "      <td>-1.000000</td>\n",
       "      <td>-1.000000</td>\n",
       "      <td>-1.000000</td>\n",
       "      <td>-1.000000</td>\n",
       "      <td>-1.000000</td>\n",
       "      <td>-1.000000</td>\n",
       "    </tr>\n",
       "    <tr>\n",
       "      <th>50%</th>\n",
       "      <td>0.333333</td>\n",
       "      <td>-0.333333</td>\n",
       "      <td>0.333333</td>\n",
       "      <td>1.000000</td>\n",
       "      <td>0.333333</td>\n",
       "      <td>0.333333</td>\n",
       "      <td>0.333333</td>\n",
       "      <td>1.000000</td>\n",
       "      <td>0.333333</td>\n",
       "      <td>1.000000</td>\n",
       "      <td>0.333333</td>\n",
       "      <td>0.000000</td>\n",
       "      <td>0.333333</td>\n",
       "      <td>-0.333333</td>\n",
       "      <td>0.333333</td>\n",
       "      <td>1.000000</td>\n",
       "      <td>0.333333</td>\n",
       "      <td>0.333333</td>\n",
       "      <td>0.333333</td>\n",
       "      <td>1.000000</td>\n",
       "      <td>0.333333</td>\n",
       "      <td>1.000000</td>\n",
       "      <td>0.333333</td>\n",
       "      <td>0.000000</td>\n",
       "    </tr>\n",
       "    <tr>\n",
       "      <th>75%</th>\n",
       "      <td>0.333333</td>\n",
       "      <td>-0.333333</td>\n",
       "      <td>0.333333</td>\n",
       "      <td>1.000000</td>\n",
       "      <td>0.333333</td>\n",
       "      <td>0.333333</td>\n",
       "      <td>0.333333</td>\n",
       "      <td>1.000000</td>\n",
       "      <td>0.333333</td>\n",
       "      <td>1.000000</td>\n",
       "      <td>0.333333</td>\n",
       "      <td>0.000000</td>\n",
       "      <td>0.333333</td>\n",
       "      <td>-0.333333</td>\n",
       "      <td>0.333333</td>\n",
       "      <td>1.000000</td>\n",
       "      <td>0.333333</td>\n",
       "      <td>0.333333</td>\n",
       "      <td>0.333333</td>\n",
       "      <td>1.000000</td>\n",
       "      <td>0.333333</td>\n",
       "      <td>1.000000</td>\n",
       "      <td>0.333333</td>\n",
       "      <td>0.000000</td>\n",
       "    </tr>\n",
       "    <tr>\n",
       "      <th>max</th>\n",
       "      <td>1.000000</td>\n",
       "      <td>1.000000</td>\n",
       "      <td>1.000000</td>\n",
       "      <td>1.000000</td>\n",
       "      <td>1.000000</td>\n",
       "      <td>1.000000</td>\n",
       "      <td>1.000000</td>\n",
       "      <td>1.000000</td>\n",
       "      <td>1.000000</td>\n",
       "      <td>1.000000</td>\n",
       "      <td>1.000000</td>\n",
       "      <td>1.000000</td>\n",
       "      <td>1.000000</td>\n",
       "      <td>1.000000</td>\n",
       "      <td>1.000000</td>\n",
       "      <td>1.000000</td>\n",
       "      <td>1.000000</td>\n",
       "      <td>1.000000</td>\n",
       "      <td>1.000000</td>\n",
       "      <td>1.000000</td>\n",
       "      <td>1.000000</td>\n",
       "      <td>1.000000</td>\n",
       "      <td>1.000000</td>\n",
       "      <td>1.000000</td>\n",
       "    </tr>\n",
       "  </tbody>\n",
       "</table>\n",
       "</div>"
      ],
      "text/plain": [
       "                 0             1             2             3             4   \\\n",
       "count  25979.000000  25979.000000  25979.000000  25979.000000  25979.000000   \n",
       "mean      -0.007326     -0.356249     -0.050336      0.400400      0.006865   \n",
       "std        0.663420      0.491261      0.628418      0.889694      0.659546   \n",
       "min       -1.000000     -1.000000     -1.000000     -1.000000     -1.000000   \n",
       "25%       -1.000000     -1.000000     -1.000000     -1.000000     -1.000000   \n",
       "50%        0.333333     -0.333333      0.333333      1.000000      0.333333   \n",
       "75%        0.333333     -0.333333      0.333333      1.000000      0.333333   \n",
       "max        1.000000      1.000000      1.000000      1.000000      1.000000   \n",
       "\n",
       "                 5             6             7             8             9   \\\n",
       "count  25979.000000  25979.000000  25979.000000  25979.000000  25979.000000   \n",
       "mean       0.023031      0.023057      0.355864     -0.062525      0.357455   \n",
       "std        0.672871      0.671674      0.883573      0.615845      0.888204   \n",
       "min       -1.000000     -1.000000     -1.000000     -1.000000     -1.000000   \n",
       "25%       -1.000000     -1.000000     -1.000000     -1.000000     -1.000000   \n",
       "50%        0.333333      0.333333      1.000000      0.333333      1.000000   \n",
       "75%        0.333333      0.333333      1.000000      0.333333      1.000000   \n",
       "max        1.000000      1.000000      1.000000      1.000000      1.000000   \n",
       "\n",
       "                 10            11            12            13            14  \\\n",
       "count  25979.000000  25979.000000  25979.000000  25979.000000  25979.000000   \n",
       "mean      -0.016308     -0.223835     -0.008250     -0.356429     -0.050079   \n",
       "std        0.636191      0.526801      0.662764      0.491375      0.628548   \n",
       "min       -1.000000     -1.000000     -1.000000     -1.000000     -1.000000   \n",
       "25%       -1.000000     -1.000000     -1.000000     -1.000000     -1.000000   \n",
       "50%        0.333333      0.000000      0.333333     -0.333333      0.333333   \n",
       "75%        0.333333      0.000000      0.333333     -0.333333      0.333333   \n",
       "max        1.000000      1.000000      1.000000      1.000000      1.000000   \n",
       "\n",
       "                 15            16            17            18            19  \\\n",
       "count  25979.000000  25979.000000  25979.000000  25979.000000  25979.000000   \n",
       "mean       0.400208      0.006865      0.022954      0.023108      0.356442   \n",
       "std        0.889759      0.659883      0.672873      0.671825      0.883754   \n",
       "min       -1.000000     -1.000000     -1.000000     -1.000000     -1.000000   \n",
       "25%       -1.000000     -1.000000     -1.000000     -1.000000     -1.000000   \n",
       "50%        1.000000      0.333333      0.333333      0.333333      1.000000   \n",
       "75%        1.000000      0.333333      0.333333      0.333333      1.000000   \n",
       "max        1.000000      1.000000      1.000000      1.000000      1.000000   \n",
       "\n",
       "                 20            21            22            23  \n",
       "count  25979.000000  25979.000000  25979.000000  25979.000000  \n",
       "mean      -0.062704      0.356942     -0.016642     -0.223796  \n",
       "std        0.616021      0.888218      0.636236      0.527000  \n",
       "min       -1.000000     -1.000000     -1.000000     -1.000000  \n",
       "25%       -1.000000     -1.000000     -1.000000     -1.000000  \n",
       "50%        0.333333      1.000000      0.333333      0.000000  \n",
       "75%        0.333333      1.000000      0.333333      0.000000  \n",
       "max        1.000000      1.000000      1.000000      1.000000  "
      ]
     },
     "execution_count": 14,
     "metadata": {},
     "output_type": "execute_result"
    }
   ],
   "source": [
    "data.describe()"
   ]
  },
  {
   "cell_type": "markdown",
   "metadata": {},
   "source": [
    "## Reducción de Dimensinalidad\n",
    "Reducir la cantidad de features disminuye la complejidad del problema, y proporciona un buen ahorro de tiempo de entrenamiento, pero es necesario saber que features eliminar. Una de las herramientas utilizadas para esto es PCA o alguna de sus variantes como RandomizedPCA, KernelPCA, etc (RandomizedPCA ya esta deprecado y se realiza como PCA(svd_solver=\"randomized\").\n",
    "\n",
    "Otras opciones pueden son:\n",
    "* VarianceThreshold (Demasiado básico, solo elimina las features que presentan una variación por debajo del límite establecido, por ejemplo que el 80% de los datos presenten el mismo valor)\n",
    "* Random Projection\n",
    "* Feature agglomeration"
   ]
  },
  {
   "cell_type": "code",
   "execution_count": 15,
   "metadata": {
    "collapsed": false
   },
   "outputs": [
    {
     "name": "stdout",
     "output_type": "stream",
     "text": [
      "Variance ratio total: 0.9319896442297833\n"
     ]
    }
   ],
   "source": [
    "pca_d = PCA(n_components=5)         # Análisis de Componentes Principales: analiza los datos y devuelve las\n",
    "                                    # n_components que más explicam la variación el df completo\n",
    "t_data = pca_d.fit_transform(data)\n",
    "print(\"Variance ratio total: {}\".format(np.sum(pca_d.explained_variance_ratio_)))"
   ]
  },
  {
   "cell_type": "markdown",
   "metadata": {},
   "source": [
    "### Sets para predecir derrotas"
   ]
  },
  {
   "cell_type": "code",
   "execution_count": 16,
   "metadata": {
    "collapsed": false
   },
   "outputs": [
    {
     "data": {
      "text/plain": [
       "(array([0, 1]), array([4625, 1870]))"
      ]
     },
     "execution_count": 16,
     "metadata": {},
     "output_type": "execute_result"
    }
   ],
   "source": [
    "s_data, s_defeat = shuffle(t_data, defeat)          # Mezclando los datos\n",
    "\n",
    "# particionando en conjuntos de entrenamiento y testeo\n",
    "x_dtrain, x_dtest, y_dtrain, y_dtest = train_test_split(s_data, s_defeat, test_size=.25)\n",
    "np.unique(y_dtest, return_counts=True)              # haciendo un recuento de cada clase en el set de entrenamiento"
   ]
  },
  {
   "cell_type": "markdown",
   "metadata": {},
   "source": [
    "### Sets para predecir victorias"
   ]
  },
  {
   "cell_type": "code",
   "execution_count": 17,
   "metadata": {
    "collapsed": false
   },
   "outputs": [
    {
     "data": {
      "text/plain": [
       "(array([0, 1]), array([3515, 2980]))"
      ]
     },
     "execution_count": 17,
     "metadata": {},
     "output_type": "execute_result"
    }
   ],
   "source": [
    "s_data, s_win = shuffle(t_data, win)\n",
    "x_wtrain, x_wtest, y_wtrain, y_wtest = train_test_split(s_data, s_win, test_size=.25)\n",
    "np.unique(y_wtest, return_counts=True)"
   ]
  },
  {
   "cell_type": "markdown",
   "metadata": {},
   "source": [
    "### Set con resultados completos"
   ]
  },
  {
   "cell_type": "code",
   "execution_count": 18,
   "metadata": {
    "collapsed": false
   },
   "outputs": [
    {
     "data": {
      "text/plain": [
       "(array([0, 1, 2]), array([4899, 5587, 8998]))"
      ]
     },
     "execution_count": 18,
     "metadata": {},
     "output_type": "execute_result"
    }
   ],
   "source": [
    "x_train, x_test, y_train, y_test = train_test_split(t_data, match_result, test_size=.25)\n",
    "# x_train.shape, x_test.shape, y_train.shape, y_test.shape\n",
    "np.unique(y_train, return_counts=True)"
   ]
  },
  {
   "cell_type": "markdown",
   "metadata": {},
   "source": [
    "# Tratando de predecir Derrotas\n",
    "Para empezar, un punto de comparación: Dummy Classifier"
   ]
  },
  {
   "cell_type": "markdown",
   "metadata": {},
   "source": [
    "### Dummy"
   ]
  },
  {
   "cell_type": "code",
   "execution_count": 19,
   "metadata": {
    "collapsed": false
   },
   "outputs": [
    {
     "name": "stdout",
     "output_type": "stream",
     "text": [
      "score: 0.5903002309468822\n"
     ]
    },
    {
     "data": {
      "image/png": "[encoded data removed]",
      "text/plain": [
       "<matplotlib.figure.Figure at 0x7f26d78684a8>"
      ]
     },
     "metadata": {},
     "output_type": "display_data"
    }
   ],
   "source": [
    "d_clf = DummyClassifier()                       # un Clasificador \"tonto\", que solo clasifica por mayoria\n",
    "d_clf.fit(x_dtrain, y_dtrain)                   # entrenamiento con el conjunto de prueba\n",
    "d_result = d_clf.predict(x_dtest)\n",
    "d_ma = confusion_matrix(d_result, y_dtest)      # calculando la matriz de confusión\n",
    "\n",
    "print(\"score: {}\".format(d_clf.score(x_dtest, y_dtest)))\n",
    "plot_confusion_matrix(d_ma, title=\"Dummy Model (D)\", classes=[\"D-W\",\"Defeat\"], norm=True)"
   ]
  },
  {
   "cell_type": "markdown",
   "metadata": {},
   "source": [
    "## Gaussian Naive Bayes (Sin Parametros)"
   ]
  },
  {
   "cell_type": "code",
   "execution_count": 20,
   "metadata": {
    "collapsed": false
   },
   "outputs": [
    {
     "name": "stdout",
     "output_type": "stream",
     "text": [
      "score: 0.7071593533487298\n"
     ]
    },
    {
     "data": {
      "image/png": "[encoded data removed]",
      "text/plain": [
       "<matplotlib.figure.Figure at 0x7f2695634dd8>"
      ]
     },
     "metadata": {},
     "output_type": "display_data"
    }
   ],
   "source": [
    "g_clf = GaussianNB()    # Clasificador Bayesiano \"Ingenuo\", asume que las features no estan relacionadas, y que cada\n",
    "                        # una brinda una probabilidad de pertenencia a un u otro grupo sin importar el valor de las demás\n",
    "g_clf.fit(x_dtrain, y_dtrain)\n",
    "g_dresult = g_clf.predict(x_dtest)\n",
    "\n",
    "g_dma = confusion_matrix(g_dresult, y_dtest)\n",
    "\n",
    "print(\"score: {}\".format(g_clf.score(x_dtest, y_dtest)))\n",
    "plot_confusion_matrix(g_dma, title=\"Gausian Model (D)\", classes=[\"D-W\",\"Defeat\"], norm=False)"
   ]
  },
  {
   "cell_type": "markdown",
   "metadata": {},
   "source": [
    "## Primer Problema\n",
    "* Puede dar un buen score para la partición exacta que se utiliza para entrenar, y fallar si se utiliza otra o se lo somete a datos que nunca antes habia visto.\n",
    "\n",
    "Como solventarlo?\n",
    "* Mantener siempre  3 particiones: \n",
    "    * una particion de entrenamiento.\n",
    "    * una partición de prueba.\n",
    "    * una partición de validación oculta.\n",
    "\n",
    "para no reducir tanto el tamaño del df, se puede utilizar técnicas como Cross Validation, donde se divide solo en conjunto de entrenamiento y de validación (como en este caso) y el conjunto de entrenamiento se divide en varias particiones para utilizar una de ellas como prueba, y luego se las va mezclando para volver a tener un nuevo set de entrenamiento y de testeo\n",
    "\n",
    "### Cross Validation"
   ]
  },
  {
   "cell_type": "code",
   "execution_count": 21,
   "metadata": {
    "collapsed": false
   },
   "outputs": [
    {
     "name": "stdout",
     "output_type": "stream",
     "text": [
      "Score Fold 0: 71.16%\n",
      "Score Fold 1: 71.03%\n",
      "Score Fold 2: 70.62%\n",
      "Score Fold 3: 69.92%\n",
      "Score Fold 4: 71.25%\n",
      "Accuracy: 0.708 (+/- 0.009803403425857298)\n"
     ]
    }
   ],
   "source": [
    "# cross_val_score(  Estimador, Datos_entrenamiento, resultados_esperados,\n",
    "#                    cv=cant_particiones_a_obtener, n_jobs=cant_procesos)\n",
    "scores = cross_val_score(GaussianNB(), x_dtrain, y_dtrain, cv=5, n_jobs=4)\n",
    "for i, s in enumerate(scores):\n",
    "    print(\"Score Fold {}: {}%\".format(i, np.around(s*100, 2)))\n",
    "print(\"Accuracy: {} (+/- {})\".format(np.around(scores.mean(), 3), scores.std() * 2))"
   ]
  },
  {
   "cell_type": "code",
   "execution_count": 23,
   "metadata": {
    "collapsed": false,
    "scrolled": true
   },
   "outputs": [
    {
     "name": "stdout",
     "output_type": "stream",
     "text": [
      "D-W: 4625\n",
      "Defeat: 1870\n"
     ]
    }
   ],
   "source": [
    "# Verificando cuantos elementos de cada clase hay en el set de validación\n",
    "dw, d = np.unique(y_dtest, return_counts=True)\n",
    "print(\"D-W: {}\\nDefeat: {}\".format(d[0], d[1]))"
   ]
  },
  {
   "cell_type": "markdown",
   "metadata": {},
   "source": [
    "### Resultado? Muy Mal Predictor..."
   ]
  },
  {
   "cell_type": "markdown",
   "metadata": {},
   "source": [
    "# Con Parámetros\n",
    "## ExtraTrees\n",
    "Probando con Arboles de Desición"
   ]
  },
  {
   "cell_type": "code",
   "execution_count": 24,
   "metadata": {
    "collapsed": false
   },
   "outputs": [
    {
     "name": "stdout",
     "output_type": "stream",
     "text": [
      "Score Fold 0: 69.09%\n",
      "Score Fold 1: 68.98%\n",
      "Score Fold 2: 69.03%\n",
      "Score Fold 3: 70.28%\n",
      "Score Fold 4: 69.71%\n",
      "Accuracy: 0.694 (+/- 0.01012909961527723)\n"
     ]
    }
   ],
   "source": [
    "forest = ExtraTreesClassifier(n_estimators=20,          # Nro de arboles\n",
    "                              criterion=\"gini\",         # Criterio para generar las particiones\n",
    "                              max_features=\"log2\",      # Cant de features que se toman para generar una partición\n",
    "                              n_jobs=4,\n",
    "                              random_state=100          # nro utilizado como semilla para la inicialización del arbol\n",
    "                             )\n",
    "\n",
    "scores = cross_val_score(forest, x_dtrain, y_dtrain, cv=5, n_jobs=4)    # Cross Validation aplicada al arbol de desición\n",
    "for i, s in enumerate(scores):\n",
    "    print(\"Score Fold {}: {}%\".format(i, np.around(s*100, 2)))\n",
    "print(\"Accuracy: {} (+/- {})\".format(np.around(scores.mean(), 3), scores.std() * 2))"
   ]
  },
  {
   "cell_type": "markdown",
   "metadata": {},
   "source": [
    "## Más Problemas\n",
    "Como elegir los parámetros sin ejecutarlos separadamente ni hacer loops molestos? Principalemte, PRESTAR ATENCIÓN EN LAS CLASES DE ESTADÍSTICA! (para reconocer a que modelo se ajusta más el problema). Una vez identificado, se pueden utilizar otras herramientas para acelerar el proceso"
   ]
  },
  {
   "cell_type": "code",
   "execution_count": 25,
   "metadata": {
    "collapsed": false
   },
   "outputs": [
    {
     "name": "stdout",
     "output_type": "stream",
     "text": [
      "1 a Carlos\n",
      "1 a Juan\n",
      "1 b Carlos\n",
      "1 b Juan\n",
      "2 a Carlos\n",
      "2 a Juan\n",
      "2 b Carlos\n",
      "2 b Juan\n"
     ]
    }
   ],
   "source": [
    "# alguien \"vivo\" realiza una combinación de los valores probables elegidos para cada parámetro (como se muestra a\n",
    "# continuación por ejemplo), pero debe arreglarselas para reconocer y mantener la mejor combinación\n",
    "prop_1 = [1, 2]\n",
    "prop_2 = [\"a\", \"b\"]\n",
    "prop_3 = [\"Carlos\", \"Juan\"]\n",
    "\n",
    "for p_1, p_2, p_3 in itertools.product(prop_1, prop_2, prop_3):\n",
    "    print(p_1, p_2, p_3)"
   ]
  },
  {
   "cell_type": "markdown",
   "metadata": {},
   "source": [
    "Alguien más vivo...\n",
    "### Grid Search\n",
    "Dado un diccionario de parámetros y valores, GridSearch (GS) realiza la combinación de los mismos, mantiene el score logrado con cada una, y da acceso directo a la mejor combinación y al mejor estimador obtenido (internamiente también realiza un avalidación cruzada).\n",
    "\n",
    "NOTA: GS prueba todas las posibilidades, asi que el proceso puede ser lento. Se puede usar tambien RandomGridSearchCV el cual solo prueba un subconjunto de los valores, haciendo que sea mucho más rápido en terminar pero puede llegar a no detectar la mejor combinación de todas."
   ]
  },
  {
   "cell_type": "code",
   "execution_count": 26,
   "metadata": {
    "collapsed": false
   },
   "outputs": [
    {
     "data": {
      "text/plain": [
       "({'criterion': 'gini',\n",
       "  'max_features': 'auto',\n",
       "  'n_estimators': 100,\n",
       "  'n_jobs': 4,\n",
       "  'random_state': 0,\n",
       "  'warm_start': True},\n",
       " 0.69492917265448573)"
      ]
     },
     "execution_count": 26,
     "metadata": {},
     "output_type": "execute_result"
    }
   ],
   "source": [
    "param_grid ={\"n_estimators\":[20, 40, 100],                    # Nro de arboles\n",
    "             \"n_jobs\":[4],\n",
    "             \"warm_start\":[True],                             # Reusar o no arboles existentes\n",
    "             \"criterion\": [\"gini\", \"entropy\"],                # Criterio para generar las particiones\n",
    "             \"max_features\": [\"auto\", \"log2\"],                # Cant de features que se toman para generar una partición\n",
    "             \"random_state\": [0, 10, 20],\n",
    "            }\n",
    "gs_forest = GridSearchCV(ExtraTreesClassifier(), param_grid, cv=5, n_jobs=4)\n",
    "\n",
    "gs_forest.fit(x_dtrain, y_dtrain)\n",
    "gs_forest.best_params_, gs_forest.best_score_"
   ]
  },
  {
   "cell_type": "code",
   "execution_count": 27,
   "metadata": {
    "collapsed": false
   },
   "outputs": [
    {
     "data": {
      "image/png": "[encoded data removed]",
      "text/plain": [
       "<matplotlib.figure.Figure at 0x7f26960c6d30>"
      ]
     },
     "metadata": {},
     "output_type": "display_data"
    }
   ],
   "source": [
    "# Verificando resultados del mejor estimador obtenido con GridSearchCV\n",
    "gsf_dresult = gs_forest.best_estimator_.predict(x_dtest)\n",
    "gsf_dma = confusion_matrix(gsf_dresult, y_dtest)\n",
    "\n",
    "plot_confusion_matrix(gsf_dma, title=\"ExtraTrees Model\", classes=[\"D-W\",\"Defeat\"], norm=True)"
   ]
  },
  {
   "cell_type": "code",
   "execution_count": 28,
   "metadata": {
    "collapsed": false
   },
   "outputs": [
    {
     "data": {
      "image/png": "[encoded data removed]",
      "text/plain": [
       "<matplotlib.figure.Figure at 0x7f2694c2eb70>"
      ]
     },
     "metadata": {},
     "output_type": "display_data"
    }
   ],
   "source": [
    "# Verificando la misma matriz, pero esta vez sin normalizar los datos\n",
    "plot_confusion_matrix(gsf_dma, title=\"ExtraTrees Model (norm)\", classes=[\"D-W\",\"Defeat\"], norm=False)"
   ]
  },
  {
   "cell_type": "code",
   "execution_count": 29,
   "metadata": {
    "collapsed": false
   },
   "outputs": [
    {
     "data": {
      "image/png": "[encoded data removed]",
      "text/plain": [
       "<matplotlib.figure.Figure at 0x7f26960c6208>"
      ]
     },
     "metadata": {},
     "output_type": "display_data"
    }
   ],
   "source": [
    "# Verificando la importancia de cada feature. Si alguna sea muy baja significa que casi no influye en la desición por lo\n",
    "# que podría ser eliminada. En este caso, todas las features tomadas tienen practicamente la misma relevancia.\n",
    "f_importances(gs_forest.best_estimator_)"
   ]
  },
  {
   "cell_type": "markdown",
   "metadata": {},
   "source": [
    "## Lo mismo, pero para predecir Victorias..."
   ]
  },
  {
   "cell_type": "code",
   "execution_count": 30,
   "metadata": {
    "collapsed": false
   },
   "outputs": [
    {
     "name": "stdout",
     "output_type": "stream",
     "text": [
      "(array([0, 1]), array([3515, 2980]))\n"
     ]
    },
    {
     "data": {
      "image/png": "[encoded data removed]",
      "text/plain": [
       "<matplotlib.figure.Figure at 0x7f26957635f8>"
      ]
     },
     "metadata": {},
     "output_type": "display_data"
    },
    {
     "data": {
      "image/png": "[encoded data removed]",
      "text/plain": [
       "<matplotlib.figure.Figure at 0x7f269559c2e8>"
      ]
     },
     "metadata": {},
     "output_type": "display_data"
    }
   ],
   "source": [
    "param_grid ={\"n_estimators\":[80, 100, 150],\n",
    "             \"n_jobs\":[4],\n",
    "             \"warm_start\":[True],\n",
    "             \"criterion\": [\"gini\", \"entropy\"],\n",
    "             \"max_features\": [None, \"auto\", \"log2\"],\n",
    "             \"random_state\": [10, 20, 30]\n",
    "            }\n",
    "\n",
    "gs_wforest = GridSearchCV(ExtraTreesClassifier(), param_grid, cv=5, n_jobs=4)\n",
    "gs_wforest.fit(x_wtrain, y_wtrain)\n",
    "\n",
    "gsf_wresult = gs_wforest.best_estimator_.predict(x_wtest)\n",
    "gsf_wma = confusion_matrix(gsf_wresult, y_wtest)\n",
    "print(np.unique(y_wtest, return_counts=True))\n",
    "\n",
    "plot_confusion_matrix(gsf_wma, title=\"ExtraTrees Model(W)\", classes=[\"D-D\", \"Win\"], norm=False)\n",
    "f_importances(gs_wforest.best_estimator_)"
   ]
  },
  {
   "cell_type": "markdown",
   "metadata": {},
   "source": [
    "## Todo Junto\n",
    "(Victorias, empates y derrotas)"
   ]
  },
  {
   "cell_type": "code",
   "execution_count": 31,
   "metadata": {
    "collapsed": false
   },
   "outputs": [
    {
     "data": {
      "image/png": "[encoded data removed]",
      "text/plain": [
       "<matplotlib.figure.Figure at 0x7f2693be45f8>"
      ]
     },
     "metadata": {},
     "output_type": "display_data"
    },
    {
     "name": "stdout",
     "output_type": "stream",
     "text": [
      "Win:\t 1697 \n",
      "Draw:\t 1879 \n",
      "Defeat:\t 2919\n"
     ]
    }
   ],
   "source": [
    "params ={\"n_estimators\":[100, 150, 200],                      # Nro de arboles\n",
    "             \"n_jobs\":[4],\n",
    "             \"warm_start\":[True],                             # Reusar o no arboles existentes\n",
    "             \"criterion\": [\"gini\", \"entropy\"],                # Criterio para generar las particiones\n",
    "             \"max_features\": [\"auto\"],                        # Cant de features que se toman para generar una partición\n",
    "             \"random_state\": [10,20,30]\n",
    "            }\n",
    "\n",
    "final_forest = GridSearchCV(ExtraTreesClassifier(), params, cv=4, n_jobs=4)\n",
    "final_forest.fit(x_train, y_train)\n",
    "\n",
    "result = final_forest.best_estimator_.predict(x_test)\n",
    "ma = confusion_matrix(result, y_test)\n",
    "\n",
    "plot_confusion_matrix(ma, classes=[\"Win\", \"Draw\", \"Defeat\"], norm=True, title=\"Resultados\")\n",
    "\n",
    "clases, contador = np.unique(y_test, return_counts=True)\n",
    "print(\"Win:\\t {} \\nDraw:\\t {} \\nDefeat:\\t {}\".format(contador[0], contador[1], contador[2]))"
   ]
  },
  {
   "cell_type": "code",
   "execution_count": 32,
   "metadata": {
    "collapsed": false
   },
   "outputs": [
    {
     "data": {
      "image/png": "[encoded data removed]",
      "text/plain": [
       "<matplotlib.figure.Figure at 0x7f2693bdfdd8>"
      ]
     },
     "metadata": {},
     "output_type": "display_data"
    }
   ],
   "source": [
    "f_importances(final_forest.best_estimator_)"
   ]
  },
  {
   "cell_type": "markdown",
   "metadata": {},
   "source": [
    "# Resultados finales?\n",
    "## Perdimos por goleada... (pero no somos los únicos...)\n",
    "\n",
    "Trabajos relacionados:\n",
    "* Predicción de resultados de partidos de la Liga Europea: https://www.kaggle.com/airback/d/hugomathien/soccer/match-outcome-prediction-in-football/comments\n",
    "* Predicción de partidos del mundial de Futbol: https://github.com/fisadev/world_cup_learning\n"
   ]
  },
  {
   "cell_type": "markdown",
   "metadata": {
    "collapsed": false
   },
   "source": [
    "## Un Plus: Pipelines!\n",
    "En caso de estar familiarizado con los métodos anteriores, es posible reducir mucho la cantidad de código necesario para implementar dichas soluciones utilizando una \"linea de ensamblaje\" o Pipeline.\n",
    "\n",
    "Para utilizarlo, solo se necesita que el último elemento de la cadena implemente la función \"predict\", y todos los anteriores implementen \"fit\" y \"transform\", de modo que la entrada pueda ir siendo procesada y transformada hasta llegar al elemento final que estará encargado de predecir el resultado final derivado de los datos.\n",
    "En el Pipe, cada elemento es una tupla (Nombre, Elemento), donde el nombre se utiliza para setear los parámetros del Elemento ( Nombre__propiedad=valor, es decir nombre seguido de doble guion bajo seguido de la propiedad a setear )"
   ]
  },
  {
   "cell_type": "code",
   "execution_count": 33,
   "metadata": {
    "collapsed": false
   },
   "outputs": [],
   "source": [
    "pca_pipe = PCA()\n",
    "vt_pipe = VarianceThreshold()\n",
    "tree_pipe = ExtraTreesClassifier()\n",
    "\n",
    "pipe_1 = Pipeline([(\"pca\", pca_pipe),\n",
    "                   (\"vt\", vt_pipe),\n",
    "                   (\"tree\", tree_pipe)])\n",
    "\n",
    "pipe_1.set_params(pca__n_components=5,          # Equivalente a haber hecho pca_pipe = PCA(n_components=5)\n",
    "                  vt__threshold=(.2*(1-.2)),    # Equivalente a haber hecho vt_pipe = VarianceThreshold(.2*(1-.2))\n",
    "                  tree__n_estimators=100,\n",
    "                  tree__criterion=\"entropy\",    # Lo mismo con las propiedades del arbol\n",
    "                  tree__warm_start=True)\n",
    "\n",
    "pipe_1.fit(x_train, y_train)                    # Entrenando el Pipeline\n",
    "r_pipe = pipe_1.predict(x_test)                 # Prediciendo resultados con el Pipeline"
   ]
  },
  {
   "cell_type": "code",
   "execution_count": 34,
   "metadata": {
    "collapsed": false
   },
   "outputs": [
    {
     "data": {
      "image/png": "[encoded data removed]",
      "text/plain": [
       "<matplotlib.figure.Figure at 0x7f2693bd1c18>"
      ]
     },
     "metadata": {},
     "output_type": "display_data"
    }
   ],
   "source": [
    "ma_pipe = confusion_matrix(r_pipe, y_test)\n",
    "\n",
    "plot_confusion_matrix(ma_pipe, classes=[\"Win\", \"Draw\", \"Defeat\"], norm=True, title=\"Resultados\")"
   ]
  },
  {
   "cell_type": "markdown",
   "metadata": {},
   "source": [
    "# Y si utilizamos Pipelines junto con GridSearch?"
   ]
  },
  {
   "cell_type": "code",
   "execution_count": 37,
   "metadata": {
    "collapsed": false
   },
   "outputs": [],
   "source": [
    "pca_pipe_2 = PCA()\n",
    "vt_pipe_2 = VarianceThreshold()\n",
    "tree_pipe_2 = ExtraTreesClassifier()\n",
    "\n",
    "pipe_2 = Pipeline([(\"pca\", pca_pipe_2),\n",
    "                   (\"vt\", vt_pipe_2),\n",
    "                   (\"tree\", tree_pipe_2)])\n",
    "\n",
    "params = dict(pca__n_components=[2, 3, 5],\n",
    "              vt__threshold=[(.2*(1-.2))],\n",
    "              tree__n_estimators=[75, 100, 125],\n",
    "              tree__criterion=[\"gini\",\"entropy\"],\n",
    "              tree__random_state=[10,20,30]\n",
    "            )\n",
    "\n",
    "gs_pipe = GridSearchCV(pipe_2, params, cv=4, n_jobs=4)\n",
    "gs_pipe.fit(x_train, y_train)\n",
    "r_gspipe = gs_pipe.best_estimator_.predict(x_test)"
   ]
  },
  {
   "cell_type": "code",
   "execution_count": 38,
   "metadata": {
    "collapsed": false
   },
   "outputs": [
    {
     "data": {
      "image/png": "[encoded data removed]",
      "text/plain": [
       "<matplotlib.figure.Figure at 0x7f26938c0908>"
      ]
     },
     "metadata": {},
     "output_type": "display_data"
    }
   ],
   "source": [
    "ma_gspipe = confusion_matrix(r_gspipe, y_test)\n",
    "\n",
    "plot_confusion_matrix(ma_gspipe, classes=[\"Win\", \"Draw\", \"Defeat\"], norm=True, title=\"Resultados\")"
   ]
  },
  {
   "cell_type": "markdown",
   "metadata": {},
   "source": [
    "Si bien el resultado no es bueno, espero los ejemplos de aplicación les sirvan para familiarizarse con las herramientas utilizadas."
   ]
  }
 ],
 "metadata": {
  "kernelspec": {
   "display_name": "Python 3",
   "language": "python",
   "name": "python3"
  },
  "language_info": {
   "codemirror_mode": {
    "name": "ipython",
    "version": 3
   },
   "file_extension": ".py",
   "mimetype": "text/x-python",
   "name": "python",
   "nbconvert_exporter": "python",
   "pygments_lexer": "ipython3",
   "version": "3.5.2"
  }
 },
 "nbformat": 4,
 "nbformat_minor": 1
}
